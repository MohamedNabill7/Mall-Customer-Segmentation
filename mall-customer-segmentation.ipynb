{
 "cells": [
  {
   "cell_type": "code",
   "execution_count": 1,
   "id": "7516d08e",
   "metadata": {
    "_cell_guid": "b1076dfc-b9ad-4769-8c92-a6c4dae69d19",
    "_kg_hide-input": true,
    "_kg_hide-output": true,
    "_uuid": "8f2839f25d086af736a60e9eeb907d3b93b6e0e5",
    "execution": {
     "iopub.execute_input": "2021-10-18T20:19:01.789917Z",
     "iopub.status.busy": "2021-10-18T20:19:01.789205Z",
     "iopub.status.idle": "2021-10-18T20:19:01.811124Z",
     "shell.execute_reply": "2021-10-18T20:19:01.810290Z",
     "shell.execute_reply.started": "2021-10-18T20:15:23.740812Z"
    },
    "papermill": {
     "duration": 0.056073,
     "end_time": "2021-10-18T20:19:01.811296",
     "exception": false,
     "start_time": "2021-10-18T20:19:01.755223",
     "status": "completed"
    },
    "tags": []
   },
   "outputs": [
    {
     "name": "stdout",
     "output_type": "stream",
     "text": [
      "/kaggle/input/customer-segmentation-tutorial-in-python/Mall_Customers.csv\n"
     ]
    }
   ],
   "source": [
    "import os\n",
    "for dirname, _, filenames in os.walk('/kaggle/input'):\n",
    "    for filename in filenames:\n",
    "        print(os.path.join(dirname, filename))"
   ]
  },
  {
   "cell_type": "markdown",
   "id": "020b9f91",
   "metadata": {
    "papermill": {
     "duration": 0.020694,
     "end_time": "2021-10-18T20:19:01.853937",
     "exception": false,
     "start_time": "2021-10-18T20:19:01.833243",
     "status": "completed"
    },
    "tags": []
   },
   "source": [
    "# Mall Customer Segmentation "
   ]
  },
  {
   "cell_type": "code",
   "execution_count": 2,
   "id": "1a5f305e",
   "metadata": {
    "execution": {
     "iopub.execute_input": "2021-10-18T20:19:01.901680Z",
     "iopub.status.busy": "2021-10-18T20:19:01.900914Z",
     "iopub.status.idle": "2021-10-18T20:19:02.814974Z",
     "shell.execute_reply": "2021-10-18T20:19:02.815464Z",
     "shell.execute_reply.started": "2021-10-18T20:15:35.885770Z"
    },
    "papermill": {
     "duration": 0.940719,
     "end_time": "2021-10-18T20:19:02.815673",
     "exception": false,
     "start_time": "2021-10-18T20:19:01.874954",
     "status": "completed"
    },
    "tags": []
   },
   "outputs": [],
   "source": [
    "import pandas as pd\n",
    "import numpy as np\n",
    "import matplotlib.pyplot as plt\n",
    "import seaborn as sns"
   ]
  },
  {
   "cell_type": "code",
   "execution_count": 3,
   "id": "78ebb4d4",
   "metadata": {
    "execution": {
     "iopub.execute_input": "2021-10-18T20:19:02.860981Z",
     "iopub.status.busy": "2021-10-18T20:19:02.860080Z",
     "iopub.status.idle": "2021-10-18T20:19:02.894587Z",
     "shell.execute_reply": "2021-10-18T20:19:02.895102Z",
     "shell.execute_reply.started": "2021-10-18T20:15:41.283045Z"
    },
    "papermill": {
     "duration": 0.058572,
     "end_time": "2021-10-18T20:19:02.895317",
     "exception": false,
     "start_time": "2021-10-18T20:19:02.836745",
     "status": "completed"
    },
    "tags": []
   },
   "outputs": [
    {
     "data": {
      "text/html": [
       "<div>\n",
       "<style scoped>\n",
       "    .dataframe tbody tr th:only-of-type {\n",
       "        vertical-align: middle;\n",
       "    }\n",
       "\n",
       "    .dataframe tbody tr th {\n",
       "        vertical-align: top;\n",
       "    }\n",
       "\n",
       "    .dataframe thead th {\n",
       "        text-align: right;\n",
       "    }\n",
       "</style>\n",
       "<table border=\"1\" class=\"dataframe\">\n",
       "  <thead>\n",
       "    <tr style=\"text-align: right;\">\n",
       "      <th></th>\n",
       "      <th>CustomerID</th>\n",
       "      <th>Gender</th>\n",
       "      <th>Age</th>\n",
       "      <th>Annual Income (k$)</th>\n",
       "      <th>Spending Score (1-100)</th>\n",
       "    </tr>\n",
       "  </thead>\n",
       "  <tbody>\n",
       "    <tr>\n",
       "      <th>0</th>\n",
       "      <td>1</td>\n",
       "      <td>Male</td>\n",
       "      <td>19</td>\n",
       "      <td>15</td>\n",
       "      <td>39</td>\n",
       "    </tr>\n",
       "    <tr>\n",
       "      <th>1</th>\n",
       "      <td>2</td>\n",
       "      <td>Male</td>\n",
       "      <td>21</td>\n",
       "      <td>15</td>\n",
       "      <td>81</td>\n",
       "    </tr>\n",
       "    <tr>\n",
       "      <th>2</th>\n",
       "      <td>3</td>\n",
       "      <td>Female</td>\n",
       "      <td>20</td>\n",
       "      <td>16</td>\n",
       "      <td>6</td>\n",
       "    </tr>\n",
       "    <tr>\n",
       "      <th>3</th>\n",
       "      <td>4</td>\n",
       "      <td>Female</td>\n",
       "      <td>23</td>\n",
       "      <td>16</td>\n",
       "      <td>77</td>\n",
       "    </tr>\n",
       "    <tr>\n",
       "      <th>4</th>\n",
       "      <td>5</td>\n",
       "      <td>Female</td>\n",
       "      <td>31</td>\n",
       "      <td>17</td>\n",
       "      <td>40</td>\n",
       "    </tr>\n",
       "  </tbody>\n",
       "</table>\n",
       "</div>"
      ],
      "text/plain": [
       "   CustomerID  Gender  Age  Annual Income (k$)  Spending Score (1-100)\n",
       "0           1    Male   19                  15                      39\n",
       "1           2    Male   21                  15                      81\n",
       "2           3  Female   20                  16                       6\n",
       "3           4  Female   23                  16                      77\n",
       "4           5  Female   31                  17                      40"
      ]
     },
     "execution_count": 3,
     "metadata": {},
     "output_type": "execute_result"
    }
   ],
   "source": [
    "df = pd.read_csv('/kaggle/input/customer-segmentation-tutorial-in-python/Mall_Customers.csv')\n",
    "df.head()"
   ]
  },
  {
   "cell_type": "code",
   "execution_count": 4,
   "id": "343f9335",
   "metadata": {
    "execution": {
     "iopub.execute_input": "2021-10-18T20:19:02.942405Z",
     "iopub.status.busy": "2021-10-18T20:19:02.941385Z",
     "iopub.status.idle": "2021-10-18T20:19:02.946910Z",
     "shell.execute_reply": "2021-10-18T20:19:02.947364Z",
     "shell.execute_reply.started": "2021-10-18T20:15:42.155893Z"
    },
    "papermill": {
     "duration": 0.030583,
     "end_time": "2021-10-18T20:19:02.947556",
     "exception": false,
     "start_time": "2021-10-18T20:19:02.916973",
     "status": "completed"
    },
    "tags": []
   },
   "outputs": [
    {
     "data": {
      "text/plain": [
       "(200, 5)"
      ]
     },
     "execution_count": 4,
     "metadata": {},
     "output_type": "execute_result"
    }
   ],
   "source": [
    "df.shape"
   ]
  },
  {
   "cell_type": "code",
   "execution_count": 5,
   "id": "042e2f98",
   "metadata": {
    "execution": {
     "iopub.execute_input": "2021-10-18T20:19:02.995148Z",
     "iopub.status.busy": "2021-10-18T20:19:02.994154Z",
     "iopub.status.idle": "2021-10-18T20:19:03.016444Z",
     "shell.execute_reply": "2021-10-18T20:19:03.015841Z",
     "shell.execute_reply.started": "2021-10-18T20:15:43.421873Z"
    },
    "papermill": {
     "duration": 0.047253,
     "end_time": "2021-10-18T20:19:03.016596",
     "exception": false,
     "start_time": "2021-10-18T20:19:02.969343",
     "status": "completed"
    },
    "tags": []
   },
   "outputs": [
    {
     "name": "stdout",
     "output_type": "stream",
     "text": [
      "<class 'pandas.core.frame.DataFrame'>\n",
      "RangeIndex: 200 entries, 0 to 199\n",
      "Data columns (total 5 columns):\n",
      " #   Column                  Non-Null Count  Dtype \n",
      "---  ------                  --------------  ----- \n",
      " 0   CustomerID              200 non-null    int64 \n",
      " 1   Gender                  200 non-null    object\n",
      " 2   Age                     200 non-null    int64 \n",
      " 3   Annual Income (k$)      200 non-null    int64 \n",
      " 4   Spending Score (1-100)  200 non-null    int64 \n",
      "dtypes: int64(4), object(1)\n",
      "memory usage: 7.9+ KB\n"
     ]
    }
   ],
   "source": [
    "df.info()"
   ]
  },
  {
   "cell_type": "code",
   "execution_count": 6,
   "id": "c8ffefec",
   "metadata": {
    "execution": {
     "iopub.execute_input": "2021-10-18T20:19:03.065736Z",
     "iopub.status.busy": "2021-10-18T20:19:03.065108Z",
     "iopub.status.idle": "2021-10-18T20:19:03.092374Z",
     "shell.execute_reply": "2021-10-18T20:19:03.092956Z",
     "shell.execute_reply.started": "2021-10-18T20:15:52.033229Z"
    },
    "papermill": {
     "duration": 0.053163,
     "end_time": "2021-10-18T20:19:03.093119",
     "exception": false,
     "start_time": "2021-10-18T20:19:03.039956",
     "status": "completed"
    },
    "tags": []
   },
   "outputs": [
    {
     "data": {
      "text/html": [
       "<div>\n",
       "<style scoped>\n",
       "    .dataframe tbody tr th:only-of-type {\n",
       "        vertical-align: middle;\n",
       "    }\n",
       "\n",
       "    .dataframe tbody tr th {\n",
       "        vertical-align: top;\n",
       "    }\n",
       "\n",
       "    .dataframe thead th {\n",
       "        text-align: right;\n",
       "    }\n",
       "</style>\n",
       "<table border=\"1\" class=\"dataframe\">\n",
       "  <thead>\n",
       "    <tr style=\"text-align: right;\">\n",
       "      <th></th>\n",
       "      <th>count</th>\n",
       "      <th>mean</th>\n",
       "      <th>std</th>\n",
       "      <th>min</th>\n",
       "      <th>25%</th>\n",
       "      <th>50%</th>\n",
       "      <th>75%</th>\n",
       "      <th>max</th>\n",
       "    </tr>\n",
       "  </thead>\n",
       "  <tbody>\n",
       "    <tr>\n",
       "      <th>CustomerID</th>\n",
       "      <td>200.0</td>\n",
       "      <td>100.50</td>\n",
       "      <td>57.879185</td>\n",
       "      <td>1.0</td>\n",
       "      <td>50.75</td>\n",
       "      <td>100.5</td>\n",
       "      <td>150.25</td>\n",
       "      <td>200.0</td>\n",
       "    </tr>\n",
       "    <tr>\n",
       "      <th>Age</th>\n",
       "      <td>200.0</td>\n",
       "      <td>38.85</td>\n",
       "      <td>13.969007</td>\n",
       "      <td>18.0</td>\n",
       "      <td>28.75</td>\n",
       "      <td>36.0</td>\n",
       "      <td>49.00</td>\n",
       "      <td>70.0</td>\n",
       "    </tr>\n",
       "    <tr>\n",
       "      <th>Annual Income (k$)</th>\n",
       "      <td>200.0</td>\n",
       "      <td>60.56</td>\n",
       "      <td>26.264721</td>\n",
       "      <td>15.0</td>\n",
       "      <td>41.50</td>\n",
       "      <td>61.5</td>\n",
       "      <td>78.00</td>\n",
       "      <td>137.0</td>\n",
       "    </tr>\n",
       "    <tr>\n",
       "      <th>Spending Score (1-100)</th>\n",
       "      <td>200.0</td>\n",
       "      <td>50.20</td>\n",
       "      <td>25.823522</td>\n",
       "      <td>1.0</td>\n",
       "      <td>34.75</td>\n",
       "      <td>50.0</td>\n",
       "      <td>73.00</td>\n",
       "      <td>99.0</td>\n",
       "    </tr>\n",
       "  </tbody>\n",
       "</table>\n",
       "</div>"
      ],
      "text/plain": [
       "                        count    mean        std   min    25%    50%     75%  \\\n",
       "CustomerID              200.0  100.50  57.879185   1.0  50.75  100.5  150.25   \n",
       "Age                     200.0   38.85  13.969007  18.0  28.75   36.0   49.00   \n",
       "Annual Income (k$)      200.0   60.56  26.264721  15.0  41.50   61.5   78.00   \n",
       "Spending Score (1-100)  200.0   50.20  25.823522   1.0  34.75   50.0   73.00   \n",
       "\n",
       "                          max  \n",
       "CustomerID              200.0  \n",
       "Age                      70.0  \n",
       "Annual Income (k$)      137.0  \n",
       "Spending Score (1-100)   99.0  "
      ]
     },
     "execution_count": 6,
     "metadata": {},
     "output_type": "execute_result"
    }
   ],
   "source": [
    "df.describe().T"
   ]
  },
  {
   "cell_type": "code",
   "execution_count": 7,
   "id": "942a08e8",
   "metadata": {
    "execution": {
     "iopub.execute_input": "2021-10-18T20:19:03.141900Z",
     "iopub.status.busy": "2021-10-18T20:19:03.141213Z",
     "iopub.status.idle": "2021-10-18T20:19:03.148592Z",
     "shell.execute_reply": "2021-10-18T20:19:03.149087Z",
     "shell.execute_reply.started": "2021-10-18T20:15:54.697147Z"
    },
    "papermill": {
     "duration": 0.033629,
     "end_time": "2021-10-18T20:19:03.149257",
     "exception": false,
     "start_time": "2021-10-18T20:19:03.115628",
     "status": "completed"
    },
    "tags": []
   },
   "outputs": [
    {
     "data": {
      "text/plain": [
       "CustomerID                0\n",
       "Gender                    0\n",
       "Age                       0\n",
       "Annual Income (k$)        0\n",
       "Spending Score (1-100)    0\n",
       "dtype: int64"
      ]
     },
     "execution_count": 7,
     "metadata": {},
     "output_type": "execute_result"
    }
   ],
   "source": [
    "df.isnull().sum()"
   ]
  },
  {
   "cell_type": "markdown",
   "id": "f07535b4",
   "metadata": {
    "papermill": {
     "duration": 0.023563,
     "end_time": "2021-10-18T20:19:03.195668",
     "exception": false,
     "start_time": "2021-10-18T20:19:03.172105",
     "status": "completed"
    },
    "tags": []
   },
   "source": [
    "## EDA"
   ]
  },
  {
   "cell_type": "code",
   "execution_count": 8,
   "id": "4d8a245c",
   "metadata": {
    "execution": {
     "iopub.execute_input": "2021-10-18T20:19:03.245152Z",
     "iopub.status.busy": "2021-10-18T20:19:03.244492Z",
     "iopub.status.idle": "2021-10-18T20:19:03.898090Z",
     "shell.execute_reply": "2021-10-18T20:19:03.898570Z",
     "shell.execute_reply.started": "2021-10-18T20:15:59.379641Z"
    },
    "papermill": {
     "duration": 0.680002,
     "end_time": "2021-10-18T20:19:03.898754",
     "exception": false,
     "start_time": "2021-10-18T20:19:03.218752",
     "status": "completed"
    },
    "tags": []
   },
   "outputs": [
    {
     "data": {
      "image/png": "[encoded data removed]",
      "text/plain": [
       "<Figure size 720x360 with 3 Axes>"
      ]
     },
     "metadata": {
      "needs_background": "light"
     },
     "output_type": "display_data"
    }
   ],
   "source": [
    "plt.figure(1 , figsize = (10 , 5))\n",
    "n = 0 \n",
    "for x in ['Age' , 'Annual Income (k$)' , 'Spending Score (1-100)']:\n",
    "    n += 1\n",
    "    plt.subplot(1 , 3 , n)\n",
    "    plt.subplots_adjust(hspace =0.5 , wspace = 0.5)\n",
    "    sns.histplot(df[x] , bins = 20, kde=True, stat=\"density\")\n",
    "plt.show()"
   ]
  },
  {
   "cell_type": "code",
   "execution_count": 9,
   "id": "c5fa1d83",
   "metadata": {
    "execution": {
     "iopub.execute_input": "2021-10-18T20:19:03.958763Z",
     "iopub.status.busy": "2021-10-18T20:19:03.951396Z",
     "iopub.status.idle": "2021-10-18T20:19:04.132734Z",
     "shell.execute_reply": "2021-10-18T20:19:04.133248Z",
     "shell.execute_reply.started": "2021-10-18T20:16:56.024371Z"
    },
    "papermill": {
     "duration": 0.20945,
     "end_time": "2021-10-18T20:19:04.133421",
     "exception": false,
     "start_time": "2021-10-18T20:19:03.923971",
     "status": "completed"
    },
    "tags": []
   },
   "outputs": [
    {
     "data": {
      "text/plain": [
       "<AxesSubplot:xlabel='Gender', ylabel='count'>"
      ]
     },
     "execution_count": 9,
     "metadata": {},
     "output_type": "execute_result"
    },
    {
     "data": {
      "image/png": "[encoded data removed]",
      "text/plain": [
       "<Figure size 360x360 with 1 Axes>"
      ]
     },
     "metadata": {
      "needs_background": "light"
     },
     "output_type": "display_data"
    }
   ],
   "source": [
    "plt.figure(1 , figsize = (5 , 5))\n",
    "sns.countplot(data=df,x='Gender')"
   ]
  },
  {
   "cell_type": "code",
   "execution_count": 10,
   "id": "128da095",
   "metadata": {
    "execution": {
     "iopub.execute_input": "2021-10-18T20:19:04.189201Z",
     "iopub.status.busy": "2021-10-18T20:19:04.188162Z",
     "iopub.status.idle": "2021-10-18T20:19:04.541965Z",
     "shell.execute_reply": "2021-10-18T20:19:04.540940Z",
     "shell.execute_reply.started": "2021-10-18T20:17:03.579336Z"
    },
    "papermill": {
     "duration": 0.38315,
     "end_time": "2021-10-18T20:19:04.542124",
     "exception": false,
     "start_time": "2021-10-18T20:19:04.158974",
     "status": "completed"
    },
    "tags": []
   },
   "outputs": [
    {
     "data": {
      "text/plain": [
       "Text(0.5, 1.0, 'Age vs Annual Income Based On Gender')"
      ]
     },
     "execution_count": 10,
     "metadata": {},
     "output_type": "execute_result"
    },
    {
     "data": {
      "image/png": "[encoded data removed]",
      "text/plain": [
       "<Figure size 720x504 with 1 Axes>"
      ]
     },
     "metadata": {
      "needs_background": "light"
     },
     "output_type": "display_data"
    }
   ],
   "source": [
    "plt.figure(1 , figsize = (10 , 7))\n",
    "for gender in ['Male','Female']:\n",
    "    sns.scatterplot(data=df[df.Gender == gender],x='Age',y='Annual Income (k$)',label=gender,s=100,alpha=.6)\n",
    "plt.title('Age vs Annual Income Based On Gender')"
   ]
  },
  {
   "cell_type": "code",
   "execution_count": 11,
   "id": "4015cccb",
   "metadata": {
    "execution": {
     "iopub.execute_input": "2021-10-18T20:19:04.727837Z",
     "iopub.status.busy": "2021-10-18T20:19:04.600553Z",
     "iopub.status.idle": "2021-10-18T20:19:05.069489Z",
     "shell.execute_reply": "2021-10-18T20:19:05.068936Z",
     "shell.execute_reply.started": "2021-10-18T20:17:10.170976Z"
    },
    "papermill": {
     "duration": 0.500121,
     "end_time": "2021-10-18T20:19:05.069670",
     "exception": false,
     "start_time": "2021-10-18T20:19:04.569549",
     "status": "completed"
    },
    "tags": []
   },
   "outputs": [
    {
     "data": {
      "text/plain": [
       "Text(0.5, 1.0, 'Annual Income vs Spending Score Based On Gender')"
      ]
     },
     "execution_count": 11,
     "metadata": {},
     "output_type": "execute_result"
    },
    {
     "data": {
      "image/png": "[encoded data removed]",
      "text/plain": [
       "<Figure size 720x504 with 1 Axes>"
      ]
     },
     "metadata": {
      "needs_background": "light"
     },
     "output_type": "display_data"
    }
   ],
   "source": [
    "plt.figure(1 , figsize = (10 , 7))\n",
    "for gender in ['Male','Female']:\n",
    "    sns.scatterplot(data=df[df.Gender == gender],y='Spending Score (1-100)',x='Annual Income (k$)',label=gender,s=100,alpha=.6)\n",
    "plt.title('Annual Income vs Spending Score Based On Gender')"
   ]
  },
  {
   "cell_type": "markdown",
   "id": "51984af5",
   "metadata": {
    "papermill": {
     "duration": 0.030002,
     "end_time": "2021-10-18T20:19:05.129014",
     "exception": false,
     "start_time": "2021-10-18T20:19:05.099012",
     "status": "completed"
    },
    "tags": []
   },
   "source": [
    "## Segmentation using Annual Income and Spending Score"
   ]
  },
  {
   "cell_type": "code",
   "execution_count": 12,
   "id": "e35dffd6",
   "metadata": {
    "execution": {
     "iopub.execute_input": "2021-10-18T20:19:05.193655Z",
     "iopub.status.busy": "2021-10-18T20:19:05.192668Z",
     "iopub.status.idle": "2021-10-18T20:19:05.195631Z",
     "shell.execute_reply": "2021-10-18T20:19:05.195120Z",
     "shell.execute_reply.started": "2021-10-18T20:17:15.726190Z"
    },
    "papermill": {
     "duration": 0.037684,
     "end_time": "2021-10-18T20:19:05.195782",
     "exception": false,
     "start_time": "2021-10-18T20:19:05.158098",
     "status": "completed"
    },
    "tags": []
   },
   "outputs": [],
   "source": [
    "X = df.iloc[:,[3,4]].values"
   ]
  },
  {
   "cell_type": "code",
   "execution_count": 13,
   "id": "f0ecb1af",
   "metadata": {
    "execution": {
     "iopub.execute_input": "2021-10-18T20:19:05.261275Z",
     "iopub.status.busy": "2021-10-18T20:19:05.260570Z",
     "iopub.status.idle": "2021-10-18T20:19:06.450579Z",
     "shell.execute_reply": "2021-10-18T20:19:06.451052Z",
     "shell.execute_reply.started": "2021-10-18T20:17:16.912053Z"
    },
    "papermill": {
     "duration": 1.226333,
     "end_time": "2021-10-18T20:19:06.451230",
     "exception": false,
     "start_time": "2021-10-18T20:19:05.224897",
     "status": "completed"
    },
    "tags": []
   },
   "outputs": [
    {
     "data": {
      "image/png": "[encoded data removed]",
      "text/plain": [
       "<Figure size 432x288 with 1 Axes>"
      ]
     },
     "metadata": {
      "needs_background": "light"
     },
     "output_type": "display_data"
    }
   ],
   "source": [
    "# Using the elbow method to find the optimal number of clusters\n",
    "from sklearn.cluster import KMeans\n",
    "wcss = []\n",
    "for i in range(1,11):\n",
    "    kmeans = KMeans(n_clusters=i,init='k-means++',n_init=12,random_state=42)\n",
    "    kmeans.fit(X)\n",
    "    wcss.append(kmeans.inertia_)\n",
    "plt.plot(range(1,11),wcss)\n",
    "plt.title('The Elbow Method')\n",
    "plt.xlabel('Number of clusters')\n",
    "plt.ylabel('WCSS')\n",
    "plt.show()"
   ]
  },
  {
   "cell_type": "markdown",
   "id": "a1e98d19",
   "metadata": {
    "papermill": {
     "duration": 0.02962,
     "end_time": "2021-10-18T20:19:06.510614",
     "exception": false,
     "start_time": "2021-10-18T20:19:06.480994",
     "status": "completed"
    },
    "tags": []
   },
   "source": [
    "The number of clusters is 5"
   ]
  },
  {
   "cell_type": "code",
   "execution_count": 14,
   "id": "8b23fec8",
   "metadata": {
    "execution": {
     "iopub.execute_input": "2021-10-18T20:19:06.575107Z",
     "iopub.status.busy": "2021-10-18T20:19:06.574103Z",
     "iopub.status.idle": "2021-10-18T20:19:06.619354Z",
     "shell.execute_reply": "2021-10-18T20:19:06.619860Z",
     "shell.execute_reply.started": "2021-10-18T20:17:25.910263Z"
    },
    "papermill": {
     "duration": 0.079485,
     "end_time": "2021-10-18T20:19:06.620048",
     "exception": false,
     "start_time": "2021-10-18T20:19:06.540563",
     "status": "completed"
    },
    "tags": []
   },
   "outputs": [],
   "source": [
    "# Training the K-Means model on the dataset\n",
    "kmeans = KMeans(n_clusters=5,init='k-means++',n_init=12)\n",
    "y_kmeans = kmeans.fit_predict(X)"
   ]
  },
  {
   "cell_type": "code",
   "execution_count": 15,
   "id": "1a73711f",
   "metadata": {
    "execution": {
     "iopub.execute_input": "2021-10-18T20:19:06.685020Z",
     "iopub.status.busy": "2021-10-18T20:19:06.684013Z",
     "iopub.status.idle": "2021-10-18T20:19:07.077815Z",
     "shell.execute_reply": "2021-10-18T20:19:07.078285Z",
     "shell.execute_reply.started": "2021-10-18T20:17:33.746821Z"
    },
    "papermill": {
     "duration": 0.428534,
     "end_time": "2021-10-18T20:19:07.078468",
     "exception": false,
     "start_time": "2021-10-18T20:19:06.649934",
     "status": "completed"
    },
    "tags": []
   },
   "outputs": [
    {
     "data": {
      "image/png": "[encoded data removed]",
      "text/plain": [
       "<Figure size 720x720 with 1 Axes>"
      ]
     },
     "metadata": {
      "needs_background": "light"
     },
     "output_type": "display_data"
    }
   ],
   "source": [
    "# Visualising the clusters\n",
    "plt.figure(1 , figsize = (10 , 10))\n",
    "plt.scatter(X[y_kmeans == 0, 0], X[y_kmeans == 0, 1], s = 100, c = 'red', label = 'Cluster 1')\n",
    "plt.scatter(X[y_kmeans == 1, 0], X[y_kmeans == 1, 1], s = 100, c = 'blue', label = 'Cluster 2')\n",
    "plt.scatter(X[y_kmeans == 2, 0], X[y_kmeans == 2, 1], s = 100, c = 'green', label = 'Cluster 3')\n",
    "plt.scatter(X[y_kmeans == 3, 0], X[y_kmeans == 3, 1], s = 100, c = 'cyan', label = 'Cluster 4')\n",
    "plt.scatter(X[y_kmeans == 4, 0], X[y_kmeans == 4, 1], s = 100, c = 'magenta', label = 'Cluster 5')\n",
    "plt.scatter(kmeans.cluster_centers_[:, 0], kmeans.cluster_centers_[:, 1], s = 150, c = 'yellow', label = 'Centroids')\n",
    "plt.title('Clusters of customers')\n",
    "plt.xlabel('Annual Income (k$)')\n",
    "plt.ylabel('Spending Score (1-100)')\n",
    "plt.legend()\n",
    "plt.show()"
   ]
  },
  {
   "cell_type": "markdown",
   "id": "b2981f27",
   "metadata": {
    "papermill": {
     "duration": 0.033399,
     "end_time": "2021-10-18T20:19:07.145741",
     "exception": false,
     "start_time": "2021-10-18T20:19:07.112342",
     "status": "completed"
    },
    "tags": []
   },
   "source": [
    "K-Means will partition your customers into mutually exclusive groups, for example, into `5 clusters`. The customers in each cluster are similar to each other demographically. Now we can create a profile for each group, considering the common characteristics of each cluster. For example, the `5 clusters` can be:\n",
    "\n",
    "`Cluster1` : High Annual Income and Low Spending Score (**Careful**)\n",
    "\n",
    "`Cluster2` : High Annual Income and High Spending Score (**Target**)\n",
    "\n",
    "`Cluster3` : Low Annual Income and Low Spending Score (**Sensible**)\n",
    "\n",
    "`Cluster4` : Low Annual Income and High Spending Score (**Careless**)\n",
    "\n",
    "`Cluster5` : Middle Annual Income and Middle Spending Score (**Standard**)\n"
   ]
  },
  {
   "cell_type": "markdown",
   "id": "6543bd5f",
   "metadata": {
    "papermill": {
     "duration": 0.032236,
     "end_time": "2021-10-18T20:19:07.209644",
     "exception": false,
     "start_time": "2021-10-18T20:19:07.177408",
     "status": "completed"
    },
    "tags": []
   },
   "source": [
    "## Segmentation using Annual Income , Spending Score and Age"
   ]
  },
  {
   "cell_type": "code",
   "execution_count": 16,
   "id": "12d2a3ef",
   "metadata": {
    "execution": {
     "iopub.execute_input": "2021-10-18T20:19:07.276685Z",
     "iopub.status.busy": "2021-10-18T20:19:07.275656Z",
     "iopub.status.idle": "2021-10-18T20:19:07.279894Z",
     "shell.execute_reply": "2021-10-18T20:19:07.280349Z",
     "shell.execute_reply.started": "2021-10-18T20:17:54.667920Z"
    },
    "papermill": {
     "duration": 0.03964,
     "end_time": "2021-10-18T20:19:07.280551",
     "exception": false,
     "start_time": "2021-10-18T20:19:07.240911",
     "status": "completed"
    },
    "tags": []
   },
   "outputs": [],
   "source": [
    "X2 = df.iloc[:,2:]"
   ]
  },
  {
   "cell_type": "code",
   "execution_count": 17,
   "id": "7452b7cb",
   "metadata": {
    "execution": {
     "iopub.execute_input": "2021-10-18T20:19:07.352612Z",
     "iopub.status.busy": "2021-10-18T20:19:07.351825Z",
     "iopub.status.idle": "2021-10-18T20:19:08.049515Z",
     "shell.execute_reply": "2021-10-18T20:19:08.048980Z",
     "shell.execute_reply.started": "2021-10-18T20:17:59.711488Z"
    },
    "papermill": {
     "duration": 0.738098,
     "end_time": "2021-10-18T20:19:08.049879",
     "exception": false,
     "start_time": "2021-10-18T20:19:07.311781",
     "status": "completed"
    },
    "tags": []
   },
   "outputs": [
    {
     "data": {
      "image/png": "[encoded data removed]",
      "text/plain": [
       "<Figure size 432x288 with 1 Axes>"
      ]
     },
     "metadata": {
      "needs_background": "light"
     },
     "output_type": "display_data"
    }
   ],
   "source": [
    "# Using the Elbow method to find the optimal number of cluster\n",
    "from sklearn.cluster import KMeans\n",
    "wcss = []\n",
    "for i in range(1,11):\n",
    "    kmeans2 = KMeans(n_clusters=i,init='k-means++',n_init=12)\n",
    "    kmeans2.fit(X2)\n",
    "    wcss.append(kmeans2.inertia_)\n",
    "plt.plot(range(1,11),wcss)\n",
    "plt.title('The Elbow Method')\n",
    "plt.xlabel('Number of clusters')\n",
    "plt.ylabel('WCSS')\n",
    "plt.show()"
   ]
  },
  {
   "cell_type": "markdown",
   "id": "46876263",
   "metadata": {
    "papermill": {
     "duration": 0.032084,
     "end_time": "2021-10-18T20:19:08.114411",
     "exception": false,
     "start_time": "2021-10-18T20:19:08.082327",
     "status": "completed"
    },
    "tags": []
   },
   "source": [
    "The number of clusters is 6"
   ]
  },
  {
   "cell_type": "code",
   "execution_count": 18,
   "id": "32e291f9",
   "metadata": {
    "execution": {
     "iopub.execute_input": "2021-10-18T20:19:08.185765Z",
     "iopub.status.busy": "2021-10-18T20:19:08.185073Z",
     "iopub.status.idle": "2021-10-18T20:19:08.240098Z",
     "shell.execute_reply": "2021-10-18T20:19:08.239358Z",
     "shell.execute_reply.started": "2021-10-18T20:18:16.120713Z"
    },
    "papermill": {
     "duration": 0.09363,
     "end_time": "2021-10-18T20:19:08.240258",
     "exception": false,
     "start_time": "2021-10-18T20:19:08.146628",
     "status": "completed"
    },
    "tags": []
   },
   "outputs": [],
   "source": [
    "# Training the K-Means model on the dataset\n",
    "kmeans2 = KMeans(n_clusters=6,init='k-means++',n_init=12)\n",
    "y_kmeans2 = kmeans2.fit_predict(X2)"
   ]
  },
  {
   "cell_type": "code",
   "execution_count": 19,
   "id": "ce23043d",
   "metadata": {
    "execution": {
     "iopub.execute_input": "2021-10-18T20:19:08.311814Z",
     "iopub.status.busy": "2021-10-18T20:19:08.311105Z",
     "iopub.status.idle": "2021-10-18T20:19:08.314294Z",
     "shell.execute_reply": "2021-10-18T20:19:08.313756Z",
     "shell.execute_reply.started": "2021-10-18T20:18:16.616240Z"
    },
    "papermill": {
     "duration": 0.041356,
     "end_time": "2021-10-18T20:19:08.314447",
     "exception": false,
     "start_time": "2021-10-18T20:19:08.273091",
     "status": "completed"
    },
    "tags": []
   },
   "outputs": [],
   "source": [
    "df['cluster'] = y_kmeans2"
   ]
  },
  {
   "cell_type": "code",
   "execution_count": 20,
   "id": "22f35ae2",
   "metadata": {
    "execution": {
     "iopub.execute_input": "2021-10-18T20:19:08.390148Z",
     "iopub.status.busy": "2021-10-18T20:19:08.389294Z",
     "iopub.status.idle": "2021-10-18T20:19:08.634024Z",
     "shell.execute_reply": "2021-10-18T20:19:08.633458Z",
     "shell.execute_reply.started": "2021-10-18T20:18:31.482280Z"
    },
    "papermill": {
     "duration": 0.286819,
     "end_time": "2021-10-18T20:19:08.634160",
     "exception": false,
     "start_time": "2021-10-18T20:19:08.347341",
     "status": "completed"
    },
    "tags": []
   },
   "outputs": [
    {
     "data": {
      "text/html": [
       "        <script type=\"text/javascript\">\n",
       "        window.PlotlyConfig = {MathJaxConfig: 'local'};\n",
       "        if (window.MathJax) {MathJax.Hub.Config({SVG: {font: \"STIX-Web\"}});}\n",
       "        if (typeof require !== 'undefined') {\n",
       "        require.undef(\"plotly\");\n",
       "        requirejs.config({\n",
       "            paths: {\n",
       "                'plotly': ['https://cdn.plot.ly/plotly-2.4.2.min']\n",
       "            }\n",
       "        });\n",
       "        require(['plotly'], function(Plotly) {\n",
       "            window._Plotly = Plotly;\n",
       "        });\n",
       "        }\n",
       "        </script>\n",
       "        "
      ]
     },
     "metadata": {},
     "output_type": "display_data"
    },
    {
     "data": {
      "text/html": [
       "<div>                            <div id=\"65b7016b-95e1-47fb-9bee-686a21f62949\" class=\"plotly-graph-div\" style=\"height:800px; width:800px;\"></div>            <script type=\"text/javascript\">                require([\"plotly\"], function(Plotly) {                    window.PLOTLYENV=window.PLOTLYENV || {};                                    if (document.getElementById(\"65b7016b-95e1-47fb-9bee-686a21f62949\")) {                    Plotly.newPlot(                        \"65b7016b-95e1-47fb-9bee-686a21f62949\",                        [{\"marker\":{\"line\":{\"width\":1},\"size\":8},\"mode\":\"markers\",\"name\":\"Cluster 0\",\"type\":\"scatter3d\",\"x\":[15,16,17,18,19,19,20,20,21,23,24,25,28,28,29,30,33,33,34,37,39,39],\"y\":[19,20,31,35,64,67,58,37,35,52,35,46,54,45,40,60,53,49,42,36,48,49],\"z\":[39,6,40,6,3,14,15,13,35,29,35,5,14,32,31,4,4,14,17,26,36,28]},{\"marker\":{\"line\":{\"width\":1},\"size\":8},\"mode\":\"markers\",\"name\":\"Cluster 3\",\"type\":\"scatter3d\",\"x\":[15,16,17,18,19,19,20,20,21,23,24,25,28,28,29,30,33,33,34,37,38,39],\"y\":[21,23,22,23,30,35,24,22,20,35,25,31,29,35,23,21,18,21,30,20,24,24],\"z\":[81,77,76,94,72,99,77,79,66,98,73,73,82,61,87,73,92,81,73,75,92,65]},{\"marker\":{\"line\":{\"width\":1},\"size\":8},\"mode\":\"markers\",\"name\":\"Cluster 4\",\"type\":\"scatter3d\",\"x\":[38,40,42,43,43,43,44,44,46,46,47,47,48,48,48,49,49,50,50,54,54,54,54,54,54,54,57,58,59,60,60,61,62,62,62,63,63,63,63,63,65,65,67,67],\"y\":[65,50,49,59,50,47,51,69,53,70,67,54,63,43,68,70,47,60,60,59,45,49,57,67,46,48,55,50,68,48,47,48,49,67,49,66,54,68,66,65,63,49,51,50],\"z\":[35,55,52,60,45,41,50,46,46,56,52,59,51,50,48,55,42,49,56,47,53,42,51,41,44,46,58,46,55,49,47,42,48,59,56,50,46,43,48,52,43,59,43,57]},{\"marker\":{\"line\":{\"width\":1},\"size\":8},\"mode\":\"markers\",\"name\":\"Cluster 5\",\"type\":\"scatter3d\",\"x\":[39,40,40,40,42,43,46,46,48,48,48,54,54,54,54,54,57,58,59,60,60,60,60,61,62,62,62,63,64,64,65,65,67,67,69,70,72,76],\"y\":[31,27,29,31,33,31,27,19,18,19,32,26,40,23,38,21,22,34,18,40,32,24,27,20,23,26,21,19,38,19,18,19,27,38,40,23,25,28],\"z\":[61,47,42,42,60,54,51,55,59,59,47,54,48,52,55,57,55,60,41,40,42,52,50,49,41,55,42,54,42,46,48,50,56,40,58,29,34,40]},{\"marker\":{\"line\":{\"width\":1},\"size\":8},\"mode\":\"markers\",\"name\":\"Cluster 2\",\"type\":\"scatter3d\",\"x\":[69,70,71,71,71,72,73,73,74,75,76,77,77,78,78,78,78,78,78,79,81,85,86,87,87,87,88,88,93,97,98,99,101,103,103,113,120,126,137],\"y\":[39,31,40,38,39,31,29,32,35,32,32,28,32,34,39,38,27,30,30,29,31,36,33,32,28,36,30,27,35,32,29,30,28,36,32,38,35,32,30],\"z\":[91,77,95,75,75,71,88,73,72,93,87,97,74,90,88,76,89,78,73,83,93,75,95,63,75,92,86,69,90,86,88,97,68,85,69,91,79,74,83]},{\"marker\":{\"line\":{\"width\":1},\"size\":8},\"mode\":\"markers\",\"name\":\"Cluster 1\",\"type\":\"scatter3d\",\"x\":[71,71,71,73,73,74,75,77,77,78,78,78,78,78,78,79,81,85,86,87,87,87,88,88,93,97,98,99,101,103,103,113,120,126,137],\"y\":[43,59,47,20,44,19,57,25,48,34,43,44,47,37,34,56,19,50,42,36,40,36,52,58,59,37,46,41,54,41,34,33,47,45,32],\"z\":[35,11,9,5,7,10,5,12,36,22,17,20,16,1,1,35,5,26,20,27,13,10,13,15,14,32,15,39,24,17,23,8,16,28,18]}],                        {\"autosize\":true,\"font\":{\"color\":\"black\",\"family\":\"Gilroy\",\"size\":12},\"height\":800,\"scene\":{\"xaxis\":{\"title\":{\"font\":{\"color\":\"black\"},\"text\":\"Annual Income\"}},\"yaxis\":{\"title\":{\"font\":{\"color\":\"black\"},\"text\":\"Age\"}},\"zaxis\":{\"title\":{\"font\":{\"color\":\"black\"},\"text\":\"Spending Score\"}}},\"showlegend\":true,\"template\":{\"data\":{\"bar\":[{\"error_x\":{\"color\":\"#2a3f5f\"},\"error_y\":{\"color\":\"#2a3f5f\"},\"marker\":{\"line\":{\"color\":\"#E5ECF6\",\"width\":0.5},\"pattern\":{\"fillmode\":\"overlay\",\"size\":10,\"solidity\":0.2}},\"type\":\"bar\"}],\"barpolar\":[{\"marker\":{\"line\":{\"color\":\"#E5ECF6\",\"width\":0.5},\"pattern\":{\"fillmode\":\"overlay\",\"size\":10,\"solidity\":0.2}},\"type\":\"barpolar\"}],\"carpet\":[{\"aaxis\":{\"endlinecolor\":\"#2a3f5f\",\"gridcolor\":\"white\",\"linecolor\":\"white\",\"minorgridcolor\":\"white\",\"startlinecolor\":\"#2a3f5f\"},\"baxis\":{\"endlinecolor\":\"#2a3f5f\",\"gridcolor\":\"white\",\"linecolor\":\"white\",\"minorgridcolor\":\"white\",\"startlinecolor\":\"#2a3f5f\"},\"type\":\"carpet\"}],\"choropleth\":[{\"colorbar\":{\"outlinewidth\":0,\"ticks\":\"\"},\"type\":\"choropleth\"}],\"contour\":[{\"colorbar\":{\"outlinewidth\":0,\"ticks\":\"\"},\"colorscale\":[[0.0,\"#0d0887\"],[0.1111111111111111,\"#46039f\"],[0.2222222222222222,\"#7201a8\"],[0.3333333333333333,\"#9c179e\"],[0.4444444444444444,\"#bd3786\"],[0.5555555555555556,\"#d8576b\"],[0.6666666666666666,\"#ed7953\"],[0.7777777777777778,\"#fb9f3a\"],[0.8888888888888888,\"#fdca26\"],[1.0,\"#f0f921\"]],\"type\":\"contour\"}],\"contourcarpet\":[{\"colorbar\":{\"outlinewidth\":0,\"ticks\":\"\"},\"type\":\"contourcarpet\"}],\"heatmap\":[{\"colorbar\":{\"outlinewidth\":0,\"ticks\":\"\"},\"colorscale\":[[0.0,\"#0d0887\"],[0.1111111111111111,\"#46039f\"],[0.2222222222222222,\"#7201a8\"],[0.3333333333333333,\"#9c179e\"],[0.4444444444444444,\"#bd3786\"],[0.5555555555555556,\"#d8576b\"],[0.6666666666666666,\"#ed7953\"],[0.7777777777777778,\"#fb9f3a\"],[0.8888888888888888,\"#fdca26\"],[1.0,\"#f0f921\"]],\"type\":\"heatmap\"}],\"heatmapgl\":[{\"colorbar\":{\"outlinewidth\":0,\"ticks\":\"\"},\"colorscale\":[[0.0,\"#0d0887\"],[0.1111111111111111,\"#46039f\"],[0.2222222222222222,\"#7201a8\"],[0.3333333333333333,\"#9c179e\"],[0.4444444444444444,\"#bd3786\"],[0.5555555555555556,\"#d8576b\"],[0.6666666666666666,\"#ed7953\"],[0.7777777777777778,\"#fb9f3a\"],[0.8888888888888888,\"#fdca26\"],[1.0,\"#f0f921\"]],\"type\":\"heatmapgl\"}],\"histogram\":[{\"marker\":{\"pattern\":{\"fillmode\":\"overlay\",\"size\":10,\"solidity\":0.2}},\"type\":\"histogram\"}],\"histogram2d\":[{\"colorbar\":{\"outlinewidth\":0,\"ticks\":\"\"},\"colorscale\":[[0.0,\"#0d0887\"],[0.1111111111111111,\"#46039f\"],[0.2222222222222222,\"#7201a8\"],[0.3333333333333333,\"#9c179e\"],[0.4444444444444444,\"#bd3786\"],[0.5555555555555556,\"#d8576b\"],[0.6666666666666666,\"#ed7953\"],[0.7777777777777778,\"#fb9f3a\"],[0.8888888888888888,\"#fdca26\"],[1.0,\"#f0f921\"]],\"type\":\"histogram2d\"}],\"histogram2dcontour\":[{\"colorbar\":{\"outlinewidth\":0,\"ticks\":\"\"},\"colorscale\":[[0.0,\"#0d0887\"],[0.1111111111111111,\"#46039f\"],[0.2222222222222222,\"#7201a8\"],[0.3333333333333333,\"#9c179e\"],[0.4444444444444444,\"#bd3786\"],[0.5555555555555556,\"#d8576b\"],[0.6666666666666666,\"#ed7953\"],[0.7777777777777778,\"#fb9f3a\"],[0.8888888888888888,\"#fdca26\"],[1.0,\"#f0f921\"]],\"type\":\"histogram2dcontour\"}],\"mesh3d\":[{\"colorbar\":{\"outlinewidth\":0,\"ticks\":\"\"},\"type\":\"mesh3d\"}],\"parcoords\":[{\"line\":{\"colorbar\":{\"outlinewidth\":0,\"ticks\":\"\"}},\"type\":\"parcoords\"}],\"pie\":[{\"automargin\":true,\"type\":\"pie\"}],\"scatter\":[{\"marker\":{\"colorbar\":{\"outlinewidth\":0,\"ticks\":\"\"}},\"type\":\"scatter\"}],\"scatter3d\":[{\"line\":{\"colorbar\":{\"outlinewidth\":0,\"ticks\":\"\"}},\"marker\":{\"colorbar\":{\"outlinewidth\":0,\"ticks\":\"\"}},\"type\":\"scatter3d\"}],\"scattercarpet\":[{\"marker\":{\"colorbar\":{\"outlinewidth\":0,\"ticks\":\"\"}},\"type\":\"scattercarpet\"}],\"scattergeo\":[{\"marker\":{\"colorbar\":{\"outlinewidth\":0,\"ticks\":\"\"}},\"type\":\"scattergeo\"}],\"scattergl\":[{\"marker\":{\"colorbar\":{\"outlinewidth\":0,\"ticks\":\"\"}},\"type\":\"scattergl\"}],\"scattermapbox\":[{\"marker\":{\"colorbar\":{\"outlinewidth\":0,\"ticks\":\"\"}},\"type\":\"scattermapbox\"}],\"scatterpolar\":[{\"marker\":{\"colorbar\":{\"outlinewidth\":0,\"ticks\":\"\"}},\"type\":\"scatterpolar\"}],\"scatterpolargl\":[{\"marker\":{\"colorbar\":{\"outlinewidth\":0,\"ticks\":\"\"}},\"type\":\"scatterpolargl\"}],\"scatterternary\":[{\"marker\":{\"colorbar\":{\"outlinewidth\":0,\"ticks\":\"\"}},\"type\":\"scatterternary\"}],\"surface\":[{\"colorbar\":{\"outlinewidth\":0,\"ticks\":\"\"},\"colorscale\":[[0.0,\"#0d0887\"],[0.1111111111111111,\"#46039f\"],[0.2222222222222222,\"#7201a8\"],[0.3333333333333333,\"#9c179e\"],[0.4444444444444444,\"#bd3786\"],[0.5555555555555556,\"#d8576b\"],[0.6666666666666666,\"#ed7953\"],[0.7777777777777778,\"#fb9f3a\"],[0.8888888888888888,\"#fdca26\"],[1.0,\"#f0f921\"]],\"type\":\"surface\"}],\"table\":[{\"cells\":{\"fill\":{\"color\":\"#EBF0F8\"},\"line\":{\"color\":\"white\"}},\"header\":{\"fill\":{\"color\":\"#C8D4E3\"},\"line\":{\"color\":\"white\"}},\"type\":\"table\"}]},\"layout\":{\"annotationdefaults\":{\"arrowcolor\":\"#2a3f5f\",\"arrowhead\":0,\"arrowwidth\":1},\"autotypenumbers\":\"strict\",\"coloraxis\":{\"colorbar\":{\"outlinewidth\":0,\"ticks\":\"\"}},\"colorscale\":{\"diverging\":[[0,\"#8e0152\"],[0.1,\"#c51b7d\"],[0.2,\"#de77ae\"],[0.3,\"#f1b6da\"],[0.4,\"#fde0ef\"],[0.5,\"#f7f7f7\"],[0.6,\"#e6f5d0\"],[0.7,\"#b8e186\"],[0.8,\"#7fbc41\"],[0.9,\"#4d9221\"],[1,\"#276419\"]],\"sequential\":[[0.0,\"#0d0887\"],[0.1111111111111111,\"#46039f\"],[0.2222222222222222,\"#7201a8\"],[0.3333333333333333,\"#9c179e\"],[0.4444444444444444,\"#bd3786\"],[0.5555555555555556,\"#d8576b\"],[0.6666666666666666,\"#ed7953\"],[0.7777777777777778,\"#fb9f3a\"],[0.8888888888888888,\"#fdca26\"],[1.0,\"#f0f921\"]],\"sequentialminus\":[[0.0,\"#0d0887\"],[0.1111111111111111,\"#46039f\"],[0.2222222222222222,\"#7201a8\"],[0.3333333333333333,\"#9c179e\"],[0.4444444444444444,\"#bd3786\"],[0.5555555555555556,\"#d8576b\"],[0.6666666666666666,\"#ed7953\"],[0.7777777777777778,\"#fb9f3a\"],[0.8888888888888888,\"#fdca26\"],[1.0,\"#f0f921\"]]},\"colorway\":[\"#636efa\",\"#EF553B\",\"#00cc96\",\"#ab63fa\",\"#FFA15A\",\"#19d3f3\",\"#FF6692\",\"#B6E880\",\"#FF97FF\",\"#FECB52\"],\"font\":{\"color\":\"#2a3f5f\"},\"geo\":{\"bgcolor\":\"white\",\"lakecolor\":\"white\",\"landcolor\":\"#E5ECF6\",\"showlakes\":true,\"showland\":true,\"subunitcolor\":\"white\"},\"hoverlabel\":{\"align\":\"left\"},\"hovermode\":\"closest\",\"mapbox\":{\"style\":\"light\"},\"paper_bgcolor\":\"white\",\"plot_bgcolor\":\"#E5ECF6\",\"polar\":{\"angularaxis\":{\"gridcolor\":\"white\",\"linecolor\":\"white\",\"ticks\":\"\"},\"bgcolor\":\"#E5ECF6\",\"radialaxis\":{\"gridcolor\":\"white\",\"linecolor\":\"white\",\"ticks\":\"\"}},\"scene\":{\"xaxis\":{\"backgroundcolor\":\"#E5ECF6\",\"gridcolor\":\"white\",\"gridwidth\":2,\"linecolor\":\"white\",\"showbackground\":true,\"ticks\":\"\",\"zerolinecolor\":\"white\"},\"yaxis\":{\"backgroundcolor\":\"#E5ECF6\",\"gridcolor\":\"white\",\"gridwidth\":2,\"linecolor\":\"white\",\"showbackground\":true,\"ticks\":\"\",\"zerolinecolor\":\"white\"},\"zaxis\":{\"backgroundcolor\":\"#E5ECF6\",\"gridcolor\":\"white\",\"gridwidth\":2,\"linecolor\":\"white\",\"showbackground\":true,\"ticks\":\"\",\"zerolinecolor\":\"white\"}},\"shapedefaults\":{\"line\":{\"color\":\"#2a3f5f\"}},\"ternary\":{\"aaxis\":{\"gridcolor\":\"white\",\"linecolor\":\"white\",\"ticks\":\"\"},\"baxis\":{\"gridcolor\":\"white\",\"linecolor\":\"white\",\"ticks\":\"\"},\"bgcolor\":\"#E5ECF6\",\"caxis\":{\"gridcolor\":\"white\",\"linecolor\":\"white\",\"ticks\":\"\"}},\"title\":{\"x\":0.05},\"xaxis\":{\"automargin\":true,\"gridcolor\":\"white\",\"linecolor\":\"white\",\"ticks\":\"\",\"title\":{\"standoff\":15},\"zerolinecolor\":\"white\",\"zerolinewidth\":2},\"yaxis\":{\"automargin\":true,\"gridcolor\":\"white\",\"linecolor\":\"white\",\"ticks\":\"\",\"title\":{\"standoff\":15},\"zerolinecolor\":\"white\",\"zerolinewidth\":2}}},\"width\":800},                        {\"responsive\": true}                    ).then(function(){\n",
       "                            \n",
       "var gd = document.getElementById('65b7016b-95e1-47fb-9bee-686a21f62949');\n",
       "var x = new MutationObserver(function (mutations, observer) {{\n",
       "        var display = window.getComputedStyle(gd).display;\n",
       "        if (!display || display === 'none') {{\n",
       "            console.log([gd, 'removed!']);\n",
       "            Plotly.purge(gd);\n",
       "            observer.disconnect();\n",
       "        }}\n",
       "}});\n",
       "\n",
       "// Listen for the removal of the full notebook cells\n",
       "var notebookContainer = gd.closest('#notebook-container');\n",
       "if (notebookContainer) {{\n",
       "    x.observe(notebookContainer, {childList: true});\n",
       "}}\n",
       "\n",
       "// Listen for the clearing of the current output cell\n",
       "var outputEl = gd.closest('.output');\n",
       "if (outputEl) {{\n",
       "    x.observe(outputEl, {childList: true});\n",
       "}}\n",
       "\n",
       "                        })                };                });            </script>        </div>"
      ]
     },
     "metadata": {},
     "output_type": "display_data"
    }
   ],
   "source": [
    "# Visualising the clusters\n",
    "import plotly.graph_objects as go\n",
    "\n",
    "PLOT = go.Figure()\n",
    "\n",
    "for C in list(df.cluster.unique()):\n",
    "    \n",
    "    PLOT.add_trace(go.Scatter3d(x = df[df.cluster == C]['Annual Income (k$)'],\n",
    "                                y = df[df.cluster == C]['Age'],\n",
    "                                z = df[df.cluster == C]['Spending Score (1-100)'],\n",
    "                                mode = 'markers', marker_size = 8, marker_line_width = 1,\n",
    "                                name = 'Cluster ' + str(C)))\n",
    "\n",
    "\n",
    "PLOT.update_layout(width = 800, height = 800, autosize = True, showlegend = True,\n",
    "                   scene = dict(xaxis=dict(title = 'Annual Income', titlefont_color = 'black'),\n",
    "                                yaxis=dict(title = 'Age', titlefont_color = 'black'),\n",
    "                                zaxis=dict(title = 'Spending Score', titlefont_color = 'black')),\n",
    "                   font = dict(family = \"Gilroy\", color  = 'black', size = 12))"
   ]
  },
  {
   "cell_type": "markdown",
   "id": "921897b8",
   "metadata": {
    "papermill": {
     "duration": 0.032991,
     "end_time": "2021-10-18T20:19:08.700352",
     "exception": false,
     "start_time": "2021-10-18T20:19:08.667361",
     "status": "completed"
    },
    "tags": []
   },
   "source": [
    "K-Means will partition your customers into mutually exclusive groups, for example, into `6 clusters`. The customers in each cluster are similar to each other demographically. Now we can create a profile for each group, considering the common characteristics of each cluster. For example, the `6 clusters` can be:\n",
    "\n",
    "`Cluster1` : Mid Age , High Annual Income and Low Spending Score \n",
    "\n",
    "`Cluster2` : Mid Age , High Annual Income and High Spending Score \n",
    "\n",
    "`Cluster3` : Old Age , Low Annual Income and Very Low Spending Score `\n",
    "\n",
    "`Cluster4` : Old Age , High Annual Income and High Spending Score \n",
    "\n",
    "`Cluster5` : Youth Age, Low Annual Income and High Spending Score \n",
    "\n",
    "`Cluster6` : Youth Age, Low Annual Income and High Spending Score "
   ]
  }
 ],
 "metadata": {
  "kernelspec": {
   "display_name": "Python 3",
   "language": "python",
   "name": "python3"
  },
  "language_info": {
   "codemirror_mode": {
    "name": "ipython",
    "version": 3
   },
   "file_extension": ".py",
   "mimetype": "text/x-python",
   "name": "python",
   "nbconvert_exporter": "python",
   "pygments_lexer": "ipython3",
   "version": "3.7.10"
  },
  "papermill": {
   "default_parameters": {},
   "duration": 16.80477,
   "end_time": "2021-10-18T20:19:10.198799",
   "environment_variables": {},
   "exception": null,
   "input_path": "__notebook__.ipynb",
   "output_path": "__notebook__.ipynb",
   "parameters": {},
   "start_time": "2021-10-18T20:18:53.394029",
   "version": "2.3.3"
  }
 },
 "nbformat": 4,
 "nbformat_minor": 5
}
